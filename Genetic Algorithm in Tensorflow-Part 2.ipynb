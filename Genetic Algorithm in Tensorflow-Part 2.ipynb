{
 "cells": [
  {
   "cell_type": "markdown",
   "metadata": {},
   "source": [
    "# Genetic Algorithm in Tensorflow (part 2)\n",
    "\n",
    "OK! So we have a working GA in pure Python. Now let's implement in tensorflow and see what the graph looks like...\n"
   ]
  },
  {
   "cell_type": "code",
   "execution_count": 1,
   "metadata": {
    "collapsed": true
   },
   "outputs": [],
   "source": [
    "import tensorflow as tf\n",
    "import numpy as np\n",
    "import collections"
   ]
  },
  {
   "cell_type": "code",
   "execution_count": 2,
   "metadata": {
    "collapsed": true
   },
   "outputs": [],
   "source": [
    "def _r(*args, **kwargs):\n",
    "    \"\"\"\n",
    "    Runs in tensorflow, for testing.\n",
    "    \"\"\"\n",
    "    return tf.Session().run(*args, **kwargs)"
   ]
  },
  {
   "cell_type": "code",
   "execution_count": 3,
   "metadata": {
    "collapsed": true
   },
   "outputs": [],
   "source": [
    "def new_genome():\n",
    "    \"\"\"\n",
    "    Creates a random genome.\n",
    "    \n",
    "    A genome is a length 100 array of 1s and 0s\n",
    "    \"\"\"\n",
    "    return tf.random_uniform(\n",
    "        [100], minval=0, maxval=2, dtype=tf.int32\n",
    "    )\n",
    "\n",
    "assert(len(_r(new_genome())) == 100)\n",
    "assert(1 in _r(new_genome()))\n",
    "assert(0 in _r(new_genome()))\n",
    "assert(2 not in _r(new_genome()))"
   ]
  },
  {
   "cell_type": "code",
   "execution_count": 4,
   "metadata": {
    "collapsed": true
   },
   "outputs": [],
   "source": [
    "# the best possible genome, our solution we are looking for\n",
    "genome_1s = tf.ones(100, dtype=tf.int32)\n",
    "# # the worst genome\n",
    "genome_0s = tf.zeros(100, dtype=tf.int32)"
   ]
  },
  {
   "cell_type": "code",
   "execution_count": 5,
   "metadata": {
    "collapsed": true
   },
   "outputs": [],
   "source": [
    "def compute_error(genome):\n",
    "    \"\"\"\n",
    "    Returns the error for a genome. This is the number 0s in it.\n",
    "    \"\"\"\n",
    "    return 100 - tf.reduce_sum(genome)\n",
    "\n",
    "assert _r(compute_error(genome_1s)) == 0\n",
    "assert _r(compute_error(genome_0s)) == 100"
   ]
  },
  {
   "cell_type": "code",
   "execution_count": 6,
   "metadata": {
    "collapsed": true
   },
   "outputs": [],
   "source": [
    "def _mutate(genome, index_to_change, value):\n",
    "    res = tf.concat(\n",
    "        [\n",
    "            genome[:index_to_change],\n",
    "            value,\n",
    "            genome[index_to_change + 1:]\n",
    "        ],\n",
    "        0\n",
    "    )\n",
    "    res.set_shape([100])\n",
    "    return res\n",
    "\n",
    "assert _r(compute_error(_mutate(genome_1s, 0, [0]))) == 1\n",
    "\n",
    "\n",
    "def mutate(genome):\n",
    "    \"\"\"\n",
    "    Returns a new genome with one item in it randomly changed to a 1 or 0\n",
    "    \"\"\"\n",
    "    index_to_change = tf.random_uniform([1], minval=0, maxval=100, dtype=tf.int32)[0]\n",
    "    \n",
    "    new_val = tf.random_uniform([1], minval=0, maxval=2, dtype=tf.int32)\n",
    "    return _mutate(genome, index_to_change, new_val)\n",
    "\n",
    "assert _r(compute_error(mutate(genome_1s))) in [0, 1]\n",
    "assert _r(compute_error(mutate(genome_0s))) in [100, 99]"
   ]
  },
  {
   "cell_type": "code",
   "execution_count": 7,
   "metadata": {
    "collapsed": true
   },
   "outputs": [],
   "source": [
    "def _crossover(genome_a, genome_b, point):\n",
    "    res =  tf.concat(\n",
    "        [\n",
    "            genome_a[:point],\n",
    "            genome_b[point:]\n",
    "        ],\n",
    "        0\n",
    "    )\n",
    "    res.set_shape([100])\n",
    "    return res\n",
    "\n",
    "def tf_equals(a, b):\n",
    "    return tf.reduce_all(tf.equal(a, b))\n",
    "\n",
    "assert _r(\n",
    "    tf_equals(\n",
    "        _crossover(genome_1s, genome_0s, 0), \n",
    "        genome_0s\n",
    "    )\n",
    ")\n",
    "\n",
    "assert _r(\n",
    "    tf_equals(\n",
    "        _crossover(genome_1s, genome_0s, 100), \n",
    "        genome_1s\n",
    "    )\n",
    ")\n",
    "\n",
    "assert _r(compute_error(_crossover(genome_1s, genome_0s, 50))) == 50\n",
    "\n",
    "def crossover(genome_a, genome_b):\n",
    "    \"\"\"\n",
    "    Returns a new genome from two others, choosing a random pivot point\n",
    "    and the part of genome_a up to that, with the part of genome_b from\n",
    "    that point on.\n",
    "    \"\"\"\n",
    "    crossover_point = tf.random_uniform([1], minval=0, maxval=101, dtype=tf.int32)[0]\n",
    "    return _crossover(genome_a, genome_b, crossover_point)\n",
    "    "
   ]
  },
  {
   "cell_type": "code",
   "execution_count": 8,
   "metadata": {
    "collapsed": true
   },
   "outputs": [],
   "source": [
    "Population = collections.namedtuple('Population', ['genomes', 'errors'])"
   ]
  },
  {
   "cell_type": "code",
   "execution_count": 9,
   "metadata": {
    "collapsed": true
   },
   "outputs": [],
   "source": [
    "def errors_from_genomes(genomes):\n",
    "    return tf.map_fn(compute_error, genomes)\n",
    "\n",
    "def population_from_genomes(genomes):\n",
    "    return Population(genomes=genomes, errors=errors_from_genomes(genomes))\n",
    "\n",
    "def initial_population():\n",
    "    \"\"\"\n",
    "    Returns an initial population of individuals. A population has\n",
    "    two arrays, genomes and error. Each of length 100 so that that\n",
    "    errors[i] is the error for genome[i].\n",
    "    \"\"\"\n",
    "    genomes = tf.map_fn(\n",
    "        lambda _: new_genome(),\n",
    "        tf.zeros((100, 100), dtype=tf.int32)\n",
    "    )\n",
    "    return population_from_genomes(genomes)\n",
    "\n",
    "assert len(_r(initial_population().genomes)) == 100"
   ]
  },
  {
   "cell_type": "code",
   "execution_count": 10,
   "metadata": {
    "collapsed": true
   },
   "outputs": [],
   "source": [
    "def select_parent(population):\n",
    "    \"\"\"\n",
    "    Selects a parent from the population, with probability inversly\n",
    "    proportional to it's error\n",
    "    \"\"\"\n",
    "    unnormalized_ps = tf.reciprocal(tf.to_float(population.errors))\n",
    "    # hack for random choice till it's implemented\n",
    "    # https://github.com/tensorflow/tensorflow/issues/8496\n",
    "    index = tf.cast(\n",
    "        tf.multinomial(tf.log([unnormalized_ps]), 1)[0][0],\n",
    "        tf.int32\n",
    "    )\n",
    "    return population.genomes[index]\n",
    "\n",
    "very_bad = np.zeros(100)\n",
    "very_good = np.ones(100)\n",
    "very_good[0] = 0\n",
    "genomes = tf.constant(\n",
    "    np.concatenate((np.tile(very_bad, [50, 1]), np.tile(very_good, [50, 1])))\n",
    ")\n",
    "population = population_from_genomes(genomes)\n",
    "assert _r(compute_error(select_parent(population))) == _r(compute_error(very_good))"
   ]
  },
  {
   "cell_type": "code",
   "execution_count": 11,
   "metadata": {},
   "outputs": [],
   "source": [
    "def create_child(population):\n",
    "    should_mutate = tf.random_uniform([1], minval=0, maxval=1)[0] < 0.1\n",
    "    \n",
    "    def mutate_child(): return mutate(select_parent(population))\n",
    "    def crossover_child(): return crossover(select_parent(population), select_parent(population))\n",
    "    return tf.cond(\n",
    "        should_mutate,\n",
    "        mutate_child,\n",
    "        crossover_child \n",
    "    )\n",
    "\n",
    "assert len(_r(create_child(initial_population()))) == 100"
   ]
  },
  {
   "cell_type": "code",
   "execution_count": 12,
   "metadata": {
    "collapsed": true
   },
   "outputs": [],
   "source": [
    "def create_children(population):\n",
    "    return tf.map_fn(\n",
    "        lambda _: create_child(population),\n",
    "        tf.zeros((100, 100), dtype=tf.int32)\n",
    "    )\n",
    "\n",
    "assert len(_r(create_children(initial_population()))) == 100"
   ]
  },
  {
   "cell_type": "code",
   "execution_count": 13,
   "metadata": {
    "collapsed": true
   },
   "outputs": [],
   "source": [
    "def best_error(population):\n",
    "    return tf.reduce_min(population.errors)"
   ]
  },
  {
   "cell_type": "code",
   "execution_count": 14,
   "metadata": {},
   "outputs": [],
   "source": [
    "def should_continue(population):\n",
    "    return tf.Print(\n",
    "        best_error(population) > 0,\n",
    "        [best_error(population)]\n",
    "    )"
   ]
  },
  {
   "cell_type": "code",
   "execution_count": 15,
   "metadata": {},
   "outputs": [
    {
     "data": {
      "text/plain": [
       "38"
      ]
     },
     "execution_count": 15,
     "metadata": {},
     "output_type": "execute_result"
    }
   ],
   "source": [
    "_r(best_error(initial_population()))"
   ]
  },
  {
   "cell_type": "code",
   "execution_count": 16,
   "metadata": {
    "collapsed": true
   },
   "outputs": [],
   "source": [
    "def next_generation(population):\n",
    "    new_genomes = create_children(population)\n",
    "    new_population = population_from_genomes(new_genomes)\n",
    "    return [new_population]\n",
    "def run_ga():\n",
    "    return tf.while_loop(\n",
    "        should_continue,\n",
    "        next_generation,\n",
    "        [initial_population()]\n",
    "    )[0]"
   ]
  },
  {
   "cell_type": "code",
   "execution_count": 17,
   "metadata": {},
   "outputs": [
    {
     "data": {
      "text/plain": [
       "Population(genomes=array([[1, 1, 1, ..., 1, 1, 1],\n",
       "       [1, 1, 1, ..., 1, 1, 1],\n",
       "       [1, 1, 1, ..., 1, 1, 1],\n",
       "       ..., \n",
       "       [1, 1, 1, ..., 1, 1, 1],\n",
       "       [1, 1, 1, ..., 1, 1, 1],\n",
       "       [1, 1, 1, ..., 1, 1, 1]], dtype=int32), errors=array([2, 1, 1, 1, 1, 1, 1, 2, 1, 1, 1, 2, 1, 1, 1, 1, 1, 1, 1, 1, 2, 1, 1,\n",
       "       1, 1, 1, 2, 1, 1, 1, 1, 1, 1, 1, 1, 2, 1, 0, 2, 1, 1, 1, 1, 1, 1, 1,\n",
       "       1, 1, 1, 1, 1, 1, 1, 1, 1, 1, 1, 1, 1, 1, 1, 1, 1, 1, 1, 1, 1, 1, 1,\n",
       "       1, 1, 1, 1, 1, 1, 1, 1, 1, 1, 1, 1, 1, 1, 1, 1, 2, 1, 1, 1, 1, 1, 1,\n",
       "       1, 2, 1, 1, 2, 1, 1, 2], dtype=int32))"
      ]
     },
     "execution_count": 17,
     "metadata": {},
     "output_type": "execute_result"
    }
   ],
   "source": [
    "_r(run_ga())"
   ]
  },
  {
   "cell_type": "markdown",
   "metadata": {},
   "source": [
    "Wow!! It works again! Now let's see what the graph looks like."
   ]
  },
  {
   "cell_type": "code",
   "execution_count": 21,
   "metadata": {
    "collapsed": true
   },
   "outputs": [],
   "source": [
    "!rm -rf logs\n"
   ]
  },
  {
   "cell_type": "code",
   "execution_count": 22,
   "metadata": {},
   "outputs": [
    {
     "data": {
      "text/plain": [
       "Population(genomes=array([[1, 1, 1, ..., 1, 1, 1],\n",
       "       [1, 1, 1, ..., 1, 1, 1],\n",
       "       [1, 1, 1, ..., 1, 1, 1],\n",
       "       ..., \n",
       "       [1, 1, 1, ..., 1, 1, 1],\n",
       "       [1, 1, 1, ..., 1, 1, 1],\n",
       "       [1, 1, 1, ..., 1, 1, 1]], dtype=int32), errors=array([1, 1, 1, 2, 1, 1, 1, 1, 1, 1, 1, 1, 2, 1, 1, 1, 1, 1, 1, 1, 1, 1, 1,\n",
       "       1, 1, 1, 1, 1, 2, 1, 1, 1, 1, 1, 1, 1, 1, 1, 1, 1, 1, 1, 1, 1, 1, 1,\n",
       "       1, 2, 2, 1, 1, 1, 2, 1, 1, 1, 1, 1, 1, 2, 1, 1, 1, 1, 1, 1, 2, 1, 1,\n",
       "       2, 1, 1, 1, 1, 1, 1, 1, 1, 1, 1, 1, 2, 1, 1, 1, 1, 1, 1, 1, 2, 0, 1,\n",
       "       1, 1, 1, 1, 1, 1, 1, 2], dtype=int32))"
      ]
     },
     "execution_count": 22,
     "metadata": {},
     "output_type": "execute_result"
    }
   ],
   "source": [
    "sess = tf.Session()\n",
    "tf.summary.FileWriter(\"./logs\", graph=sess.graph)\n",
    "sess.run(run_ga())"
   ]
  },
  {
   "cell_type": "code",
   "execution_count": null,
   "metadata": {},
   "outputs": [
    {
     "name": "stdout",
     "output_type": "stream",
     "text": [
      "Starting TensorBoard 41 on port 6006\r\n",
      "(You can navigate to http://172.17.0.2:6006)\r\n"
     ]
    }
   ],
   "source": [
    "!tensorboard --logdir=logs"
   ]
  },
  {
   "cell_type": "markdown",
   "metadata": {
    "collapsed": true
   },
   "source": [
    "Now open [`http://localhost:6006`](http://localhost:6006) and click on the graph section to see."
   ]
  },
  {
   "cell_type": "markdown",
   "metadata": {},
   "source": [
    "Right now this takes a *whole* lot longer than pure python. So I am not sure why anyone in their right mind would do this. But... It is cool! And I am generally interested in how dataflow computation can be used for GP, even if it isn't with Tensorflow. Tensorflow is made to take the derivatives of things, so that it can do back propogation. That isn't something we do in GP (usually/currently), so it's likely not the right tool for the job. Especially if we start trying to do genetic programming with it."
   ]
  }
 ],
 "metadata": {
  "kernelspec": {
   "display_name": "Python 2",
   "language": "python",
   "name": "python2"
  },
  "language_info": {
   "codemirror_mode": {
    "name": "ipython",
    "version": 2
   },
   "file_extension": ".py",
   "mimetype": "text/x-python",
   "name": "python",
   "nbconvert_exporter": "python",
   "pygments_lexer": "ipython2",
   "version": "2.7.13"
  }
 },
 "nbformat": 4,
 "nbformat_minor": 2
}
